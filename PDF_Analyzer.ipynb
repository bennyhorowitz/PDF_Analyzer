{
 "cells": [
  {
   "cell_type": "code",
   "execution_count": 1,
   "id": "b37e07a8-1503-4a1c-93c9-da464426a290",
   "metadata": {},
   "outputs": [],
   "source": [
    "import os\n",
    "import numpy as np\n",
    "import PyPDF2\n",
    "import fitz\n",
    "from PyPDF2 import PdfFileMerger \n",
    "from PyPDF2 import PdfFileReader, PdfFileWriter\n",
    "import re\n",
    "\n",
    "'''Created the following folders:\n",
    "\"PDF Files\" - main folder\n",
    "\"merged\" - subfolder\n",
    "result\" - subfolder\n",
    "\"highlighted\" - subfolder\n",
    "\"final\" - subfolder\n",
    "\n",
    "**********SAVE PDFs TO BE ANALYZED IN MAIN \"PDF Files\" FOLDER*********\n",
    "'''\n",
    "\n",
    "\n",
    "folder = '/home/jovyan/PDF Analyzer/'\n",
    "result_file_folder = '/home/jovyan/PDF Files/result/'\n",
    "merged_file_folder = '/home/jovyan/PDF Files/merged/'\n",
    "highlighted_file_folder = '/home/jovyan/PDF Files/highlighted/'\n",
    "highlighted_pages_file_folder = '/home/jovyan/PDF Files/highlighted page files/'\n",
    "final_highlighted_file_folder = '/home/jovyan/PDF Files/final/'\n",
    "\n",
    "os.chdir('/home/jovyan/PDF Files/')\n",
    "\n",
    "######Enter the keyword or phrase to be searched below#########\n",
    "keyword_phrase = \"Mission support programs\""
   ]
  },
  {
   "cell_type": "code",
   "execution_count": 2,
   "id": "147850d3-83ee-45fb-a85d-80493cb1f646",
   "metadata": {},
   "outputs": [],
   "source": [
    "######################################   Merges all original PDFs in the above folder and will be put in merged folder\n",
    "x = [a for a in os.listdir(folder) if a.endswith(\".pdf\")]\n",
    "merger = PdfFileMerger()\n",
    "for pdf in x:\n",
    "    merger.append(open(pdf, 'rb'))\n",
    "with open(\"{}{} result.pdf\".format(merged_file_folder,keyword_phrase), \"wb\") as fout:\n",
    "    merger.write(fout)"
   ]
  },
  {
   "cell_type": "code",
   "execution_count": 3,
   "id": "76585330-faf3-49c7-ae99-b072b67527f7",
   "metadata": {},
   "outputs": [],
   "source": [
    "##################################### Get list of page numbers with the string\n",
    "obj = PyPDF2.PdfFileReader(\"{}{} result.pdf\".format(merged_file_folder,keyword_phrase))\n",
    "NumPages = obj.getNumPages()\n",
    "\n",
    "lst = []\n",
    "for i in range(0, NumPages):\n",
    "    PageObj = obj.getPage(i)\n",
    "    Text = PageObj.extractText()\n",
    "    if re.search(keyword_phrase,Text):\n",
    "          lst.append(i)"
   ]
  },
  {
   "cell_type": "code",
   "execution_count": 4,
   "id": "92196713-aca8-4c4a-83b9-8ac1ad3b3ab5",
   "metadata": {},
   "outputs": [
    {
     "name": "stderr",
     "output_type": "stream",
     "text": [
      "FitzDeprecation: 'searchFor' removed from class 'Page' after v1.19 - use 'search_for'. [__init__.py:170]\n",
      "FitzDeprecation: 'addHighlightAnnot' removed from class 'Page' after v1.19 - use 'add_highlight_annot'. [__init__.py:170]\n"
     ]
    }
   ],
   "source": [
    "#####################################Highlight the merged file where strings are and will be put in highlighted folder  \n",
    "doc = fitz.open(\"{}{} result.pdf\".format(merged_file_folder,keyword_phrase).format(keyword_phrase))        \n",
    "for i in lst:\n",
    "    page = doc[i] \n",
    "    ### SEARCH    \n",
    "    text = keyword_phrase\n",
    "    text_instances = page.searchFor(text)    \n",
    "    ### HIGHLIGHT    \n",
    "    for inst in text_instances:\n",
    "        highlight = page.addHighlightAnnot(inst)     \n",
    "    ### OUTPUT    \n",
    "doc.save(\"{}{} highlighted.pdf\".format(highlighted_file_folder,keyword_phrase))#, garbage=4, deflate=True, clean=True) \n",
    "inputpdf = PdfFileReader(open(\"{}{} highlighted.pdf\".format(highlighted_file_folder,keyword_phrase), \"rb\"))"
   ]
  },
  {
   "cell_type": "code",
   "execution_count": null,
   "id": "6fce0f45-7d5a-4822-9a4c-0153e307154a",
   "metadata": {},
   "outputs": [],
   "source": [
    "##########################################Creat new PDFs with only pages with string highlights and will be put in the highlighted page files folder\n",
    "inputpdf = PdfFileReader(open(\"{}{} highlighted.pdf\".format(highlighted_file_folder,keyword_phrase), \"rb\"))\n",
    "arr = np.array(lst)\n",
    "for i in arr:\n",
    "    output = PdfFileWriter()\n",
    "    output.addPage(inputpdf.getPage(i))\n",
    "    with open(\"{}{}pdf%s.pdf\".format(highlighted_pages_file_folder,keyword_phrase) % i, \"wb\") as outputStream:\n",
    "        output.write(outputStream)"
   ]
  },
  {
   "cell_type": "code",
   "execution_count": 10,
   "id": "e5911e54-e4ce-4ee9-a836-e90f9e2cd524",
   "metadata": {},
   "outputs": [],
   "source": [
    "#####################################################Compile highlighted pages into final document and will be placed in final folder    \n",
    "source_dir = highlighted_pages_file_folder\n",
    "merger = PdfFileMerger()\n",
    "for item in os.listdir(source_dir):\n",
    "    if item.endswith('.pdf'):\n",
    "        #print(item)\n",
    "        merger.append(source_dir + item)\n",
    "\n",
    "with open(\"{}{} Highlights.pdf\".format(final_highlighted_file_folder,keyword_phrase), \"wb\") as fout:\n",
    "    merger.write(fout) "
   ]
  },
  {
   "cell_type": "code",
   "execution_count": null,
   "id": "9290967d-30aa-4a10-a560-380fc4fe7042",
   "metadata": {},
   "outputs": [],
   "source": []
  }
 ],
 "metadata": {
  "kernelspec": {
   "display_name": "Python 3 (ipykernel)",
   "language": "python",
   "name": "python3"
  },
  "language_info": {
   "codemirror_mode": {
    "name": "ipython",
    "version": 3
   },
   "file_extension": ".py",
   "mimetype": "text/x-python",
   "name": "python",
   "nbconvert_exporter": "python",
   "pygments_lexer": "ipython3",
   "version": "3.9.7"
  }
 },
 "nbformat": 4,
 "nbformat_minor": 5
}
